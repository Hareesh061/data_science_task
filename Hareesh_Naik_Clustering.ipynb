import pandas as pd
from sklearn.preprocessing import StandardScaler
from sklearn.cluster import KMeans
from sklearn.metrics import davies_bouldin_score
from sklearn.decomposition import PCA
import matplotlib.pyplot as plt


customers = pd.read_csv("Customers.csv")
transactions = pd.read_csv("Transactions.csv")


customer_features = pd.merge(transactions, customers, on="CustomerID")


customer_summary = customer_features.groupby("CustomerID").agg({
    "TotalValue": "sum",       
    "Quantity": "sum",        
    "Price": "mean"            
}).reset_index()


features = customer_summary[["TotalValue", "Quantity", "Price"]]


scaler = StandardScaler()
scaled_features = scaler.fit_transform(features)


kmeans = KMeans(n_clusters=4, random_state=42)
clusters = kmeans.fit_predict(scaled_features)
customer_summary["Cluster"] = clusters


db_index = davies_bouldin_score(scaled_features, clusters)
print(f"Davies-Bouldin Index: {db_index}")


pca = PCA(n_components=2)
pca_features = pca.fit_transform(scaled_features)
plt.scatter(pca_features[:, 0], pca_features[:, 1], c=clusters, cmap="viridis", s=50)
plt.title("Customer Segmentation")
plt.xlabel("PCA Component 1")
plt.ylabel("PCA Component 2")
plt.colorbar(label="Cluster")
plt.show()


customer_summary.to_csv("Hareesh_Naik_Clustering.csv", index=False)
