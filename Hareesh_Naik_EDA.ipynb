import pandas as pd
import matplotlib.pyplot as plt
import seaborn as sns

customers = pd.read_csv("Customers.csv")
products = pd.read_csv("Products.csv")
transactions = pd.read_csv("Transactions.csv")

print(customers.isnull().sum())
print(products.isnull().sum())
print(transactions.isnull().sum())


merged = transactions.merge(customers, on="CustomerID").merge(products, on="ProductID")

print(merged.describe())
print(merged.info())


region_sales = merged.groupby("Region")["TotalValue"].sum().sort_values(ascending=False)
region_sales.plot(kind="bar", title="Total Sales by Region")
plt.show()


category_purchases = merged.groupby("Category")["Quantity"].sum().sort_values(ascending=False)
category_purchases.plot(kind="bar", title="Most Purchased Product Categories")
plt.show()


merged['TransactionDate'] = pd.to_datetime(merged['TransactionDate'])
monthly_sales = merged.groupby(merged['TransactionDate'].dt.to_period("M"))["TotalValue"].sum()
monthly_sales.plot(kind="line", title="Monthly Sales Trend")
plt.show()


avg_transaction = merged.groupby("Region")["TotalValue"].mean().sort_values(ascending=False)
avg_transaction.plot(kind="bar", title="Average Transaction Value by Region")
plt.show()


customer_purchases = merged.groupby("CustomerID")["TransactionID"].count()
sns.histplot(customer_purchases, bins=30)
plt.title("Customer Loyalty (Transactions per Customer)")
plt.show()
