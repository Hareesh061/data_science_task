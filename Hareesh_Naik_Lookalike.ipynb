import pandas as pd
from sklearn.metrics.pairwise import cosine_similarity
from sklearn.preprocessing import MinMaxScaler


customers = pd.read_csv("Customers.csv")  # Ensure the file is in the working directory
transactions = pd.read_csv("Transactions.csv")  # Ensure the file is in the working directory


merged = pd.merge(transactions, customers, on="CustomerID")


customer_features = merged.groupby("CustomerID").agg({
    "TotalValue": "sum",          # Total amount spent
    "Quantity": "sum",            # Total quantity of products purchased
    "ProductID": "nunique"        # Number of unique products purchased
}).reset_index()


customer_features.rename(columns={
    "TotalValue": "TotalSpend",
    "Quantity": "TotalQuantity",
    "ProductID": "UniqueProducts"
}, inplace=True)


scaler = MinMaxScaler()
scaled_features = scaler.fit_transform(customer_features[["TotalSpend", "TotalQuantity", "UniqueProducts"]])


similarity_matrix = cosine_similarity(scaled_features)


lookalike_map = {}
for i, customer_id in enumerate(customer_features["CustomerID"]):
    similar_indices = similarity_matrix[i].argsort()[::-1][1:4]  # Exclude self by starting from index 1
    lookalike_map[customer_id] = [
        (customer_features["CustomerID"].iloc[j], similarity_matrix[i, j])
        for j in similar_indices
    ]


lookalike_df = pd.DataFrame({
    "CustomerID": list(lookalike_map.keys()),
    "Lookalikes": [str(lookalike_map[cust_id]) for cust_id in lookalike_map]
})
lookalike_df.to_csv("Hareesh_Naik_Lookalike.csv", index=False)

print("Lookalike analysis completed and results saved to 'Hareesh_Naik_Lookalike.csv'")
